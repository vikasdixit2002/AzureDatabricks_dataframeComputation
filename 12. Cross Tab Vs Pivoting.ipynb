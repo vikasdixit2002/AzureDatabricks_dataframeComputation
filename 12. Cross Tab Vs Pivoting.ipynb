{
 "cells": [
  {
   "cell_type": "code",
   "execution_count": 0,
   "metadata": {
    "application/vnd.databricks.v1+cell": {
     "cellMetadata": {},
     "inputWidgets": {},
     "nuid": "b81e638c-09cd-4028-b4a8-7489cf145f65",
     "showTitle": false,
     "title": ""
    }
   },
   "outputs": [],
   "source": [
    "import pyspark.sql.functions as sf\n",
    "import pyspark.sql.types as st\n",
    "\n"
   ]
  },
  {
   "cell_type": "code",
   "execution_count": 0,
   "metadata": {
    "application/vnd.databricks.v1+cell": {
     "cellMetadata": {},
     "inputWidgets": {},
     "nuid": "74d38ea2-66e9-41ee-b55c-8977c798dc72",
     "showTitle": false,
     "title": ""
    }
   },
   "outputs": [],
   "source": [
    "tableschema = st.StructType([\n",
    "    st.StructField(\"CustomerName\",st.StringType(), True)\n",
    "    ,st.StructField(\"Product\",st.StringType(), True)\n",
    "    ,st.StructField(\"Quantity\",st.LongType(), True)\n",
    "    ,st.StructField(\"UnitPrice\",st.DoubleType(), True)\n",
    "])\n",
    "\n",
    "df = spark.read.format(\"csv\")\\\n",
    "               .schema(tableschema)\\\n",
    "               .load(\"/FileStore/tables/sales\")\n"
   ]
  },
  {
   "cell_type": "markdown",
   "metadata": {
    "application/vnd.databricks.v1+cell": {
     "cellMetadata": {},
     "inputWidgets": {},
     "nuid": "1862513a-708b-4490-b9e0-876ea576cc01",
     "showTitle": false,
     "title": ""
    }
   },
   "source": [
    "Cross tab shows total number of occurrences"
   ]
  },
  {
   "cell_type": "code",
   "execution_count": 0,
   "metadata": {
    "application/vnd.databricks.v1+cell": {
     "cellMetadata": {},
     "inputWidgets": {},
     "nuid": "4d1e7cf0-a356-4df9-92d2-98a2366dcfb5",
     "showTitle": false,
     "title": ""
    }
   },
   "outputs": [],
   "source": [
    "df.crosstab(\"CustomerName\",\"Product\").show()\n",
    "df.where(\"customername == 'Mike' and Product= 'apples'\").count()"
   ]
  },
  {
   "cell_type": "markdown",
   "metadata": {
    "application/vnd.databricks.v1+cell": {
     "cellMetadata": {},
     "inputWidgets": {},
     "nuid": "c66db200-f057-49fb-8580-613cf5f16734",
     "showTitle": false,
     "title": ""
    }
   },
   "source": [
    "Pivoting table"
   ]
  },
  {
   "cell_type": "code",
   "execution_count": 0,
   "metadata": {
    "application/vnd.databricks.v1+cell": {
     "cellMetadata": {},
     "inputWidgets": {},
     "nuid": "ebbf859e-7a36-419f-9d57-9fb5ed084a3a",
     "showTitle": false,
     "title": ""
    }
   },
   "outputs": [],
   "source": [
    "df.groupBy(\"CustomerName\")\\\n",
    "  .pivot(\"Product\")\\\n",
    "  .agg(sf.sum(sf.expr(\"Quantity * UnitPrice\"))).show()"
   ]
  },
  {
   "cell_type": "code",
   "execution_count": 0,
   "metadata": {
    "application/vnd.databricks.v1+cell": {
     "cellMetadata": {},
     "inputWidgets": {},
     "nuid": "97f4148d-4b84-4521-badf-6b3a11d2c4e1",
     "showTitle": false,
     "title": ""
    }
   },
   "outputs": [],
   "source": []
  }
 ],
 "metadata": {
  "application/vnd.databricks.v1+notebook": {
   "dashboards": [],
   "language": "python",
   "notebookMetadata": {
    "pythonIndentUnit": 4
   },
   "notebookName": "12. Cross Tab Vs Pivoting",
   "widgets": {}
  }
 },
 "nbformat": 4,
 "nbformat_minor": 0
}
