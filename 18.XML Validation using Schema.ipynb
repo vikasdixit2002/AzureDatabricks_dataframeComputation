{
 "cells": [
  {
   "cell_type": "code",
   "execution_count": 0,
   "metadata": {
    "application/vnd.databricks.v1+cell": {
     "cellMetadata": {},
     "inputWidgets": {},
     "nuid": "3a8be79a-2f73-4ed9-9bb1-318e73d7ed70",
     "showTitle": false,
     "title": ""
    }
   },
   "outputs": [],
   "source": [
    "spark.sparkContext.addFile(\"dbfs:/FileStore/XML/sample_order.xsd\")\n",
    "df_schema=spark.read.format(\"xml\")\\\n",
    "           .option(\"rowTag\",\"Root\")\\\n",
    "           .option(\"rowValidationXSDPath\",\"sample_order.xsd\").load(\"/FileStore/XML/sample_corrupted.xml\")\n",
    "\n",
    "if (df_schema.columns[0]==\"_corrupt_record\"):\n",
    "    dbutils.notebook.exit(\"Corrupted XML File\")\n"
   ]
  },
  {
   "cell_type": "code",
   "execution_count": 0,
   "metadata": {
    "application/vnd.databricks.v1+cell": {
     "cellMetadata": {},
     "inputWidgets": {},
     "nuid": "e764c8c1-05e5-4967-b006-f55f223f09c9",
     "showTitle": false,
     "title": ""
    }
   },
   "outputs": [],
   "source": [
    "spark.sparkContext.addFile(\"dbfs:/FileStore/XML/sample_order.xsd\")\n",
    "df_schema=spark.read.format(\"xml\")\\\n",
    "           .option(\"rowTag\",\"Root\")\\\n",
    "           .option(\"rowValidationXSDPath\",\"sample_order.xsd\").load(\"/FileStore/XML/sample_order.xml\")\n",
    "\n",
    "if (df_schema.columns[0]==\"_corrupt_record\"):\n",
    "    dbutils.notebook.exit(\"Corrupted XML File\")\n",
    "else:\n",
    "    print(\"XML File parsed successfully\")\n"
   ]
  },
  {
   "cell_type": "code",
   "execution_count": 0,
   "metadata": {
    "application/vnd.databricks.v1+cell": {
     "cellMetadata": {},
     "inputWidgets": {},
     "nuid": "28f6b2d8-b607-4e6b-b726-0029942ebb88",
     "showTitle": false,
     "title": ""
    }
   },
   "outputs": [],
   "source": [
    "display(df_schema)"
   ]
  },
  {
   "cell_type": "code",
   "execution_count": 0,
   "metadata": {
    "application/vnd.databricks.v1+cell": {
     "cellMetadata": {},
     "inputWidgets": {},
     "nuid": "711d2906-4bbe-4be4-baa0-365af9ef4b34",
     "showTitle": false,
     "title": ""
    }
   },
   "outputs": [],
   "source": []
  }
 ],
 "metadata": {
  "application/vnd.databricks.v1+notebook": {
   "dashboards": [],
   "language": "python",
   "notebookMetadata": {
    "pythonIndentUnit": 4
   },
   "notebookName": "18.XML Validation using Schema",
   "widgets": {}
  }
 },
 "nbformat": 4,
 "nbformat_minor": 0
}
