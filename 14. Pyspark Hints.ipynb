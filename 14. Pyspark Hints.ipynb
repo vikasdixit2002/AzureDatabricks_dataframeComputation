{
 "cells": [
  {
   "cell_type": "code",
   "execution_count": 0,
   "metadata": {
    "application/vnd.databricks.v1+cell": {
     "cellMetadata": {},
     "inputWidgets": {},
     "nuid": "6fe1de09-c212-4e1a-a33e-7deb5f4594ec",
     "showTitle": false,
     "title": ""
    }
   },
   "outputs": [],
   "source": [
    "dataset1 = []\n",
    "dataset2 = []\n",
    "\n",
    "for i in range(10000):\n",
    "    dataset1.append((i,\"ds1\"+ \" \" + str(i)))\n",
    "\n",
    "\n",
    "for j in range(10000):\n",
    "    dataset2.append((j,\"ds2\"+ \" \" + str(j)))\n",
    "\n",
    "\n",
    "df1 = spark.createDataFrame(dataset1).toDF(\"id\",\"name\")\n",
    "df2 = spark.createDataFrame(dataset2).toDF(\"id\",\"name\")\n"
   ]
  },
  {
   "cell_type": "code",
   "execution_count": 0,
   "metadata": {
    "application/vnd.databricks.v1+cell": {
     "cellMetadata": {},
     "inputWidgets": {},
     "nuid": "53cf1e84-7283-456c-8796-4fdd26e544f3",
     "showTitle": false,
     "title": ""
    }
   },
   "outputs": [],
   "source": [
    "dfjoin = df1.join(df2.hint(\"broadcast\"),\"id\",\"inner\")\n",
    "dfjoin.write.format(\"noop\").mode(\"Overwrite\").save(\"/Filestore\")\n"
   ]
  },
  {
   "cell_type": "code",
   "execution_count": 0,
   "metadata": {
    "application/vnd.databricks.v1+cell": {
     "cellMetadata": {},
     "inputWidgets": {},
     "nuid": "ee3bd227-8eca-4701-aa3a-eaef8c766523",
     "showTitle": false,
     "title": ""
    }
   },
   "outputs": [],
   "source": [
    "dfjoin = df1.hint(\"Merge\").join(df2,\"id\",\"inner\")\n",
    "dfjoin.write.format(\"noop\").mode(\"Overwrite\").save(\"/Filestore\")\n"
   ]
  }
 ],
 "metadata": {
  "application/vnd.databricks.v1+notebook": {
   "dashboards": [],
   "language": "python",
   "notebookMetadata": {
    "pythonIndentUnit": 4
   },
   "notebookName": "14. Pyspark Hints",
   "widgets": {}
  }
 },
 "nbformat": 4,
 "nbformat_minor": 0
}
