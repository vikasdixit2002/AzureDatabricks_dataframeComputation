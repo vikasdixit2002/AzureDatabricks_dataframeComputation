{
 "cells": [
  {
   "cell_type": "code",
   "execution_count": 0,
   "metadata": {
    "application/vnd.databricks.v1+cell": {
     "cellMetadata": {},
     "inputWidgets": {},
     "nuid": "096465a0-6c3d-4dea-9507-67409f941107",
     "showTitle": false,
     "title": ""
    }
   },
   "outputs": [],
   "source": [
    "import pyspark.sql.functions as sf \n",
    "from pyspark.sql import Window "
   ]
  },
  {
   "cell_type": "code",
   "execution_count": 0,
   "metadata": {
    "application/vnd.databricks.v1+cell": {
     "cellMetadata": {},
     "inputWidgets": {},
     "nuid": "45f37fcf-e6d7-4a4b-9099-d963df69fa4b",
     "showTitle": false,
     "title": ""
    }
   },
   "outputs": [],
   "source": [
    "df = spark.read.format(\"csv\")\\\n",
    "               .option(\"header\",\"true\")\\\n",
    "                .option(\"samplingRatio\",\"0.1\")\\\n",
    "                .load(\"/FileStore/tables/invoices.csv\")\n"
   ]
  },
  {
   "cell_type": "markdown",
   "metadata": {
    "application/vnd.databricks.v1+cell": {
     "cellMetadata": {},
     "inputWidgets": {},
     "nuid": "69e06376-7b00-4f81-8821-d07e65bdf63a",
     "showTitle": false,
     "title": ""
    }
   },
   "source": [
    "Simple and Windowing Functions"
   ]
  },
  {
   "cell_type": "code",
   "execution_count": 0,
   "metadata": {
    "application/vnd.databricks.v1+cell": {
     "cellMetadata": {},
     "inputWidgets": {},
     "nuid": "ea923564-f7a4-4e1b-9f35-1f85bf27bf3e",
     "showTitle": false,
     "title": ""
    }
   },
   "outputs": [],
   "source": [
    "date = sf.to_date(\"InvoiceDate\",\"dd-MM-yyyy H.mm\")\n",
    "NumInvoice = sf.countDistinct(\"InvoiceNo\").alias(\"NumInvoice\")\n",
    "TotalQuantity = sf.sum(\"Quantity\").alias(\"TotalQuantity\")\n",
    "InvoiceValue = sf.expr(\"round(sum(Quantity*UnitPrice),2)\").alias(\"InvoiceValue\")\n",
    "InvoiceValue1 = sf.round(sf.sum(df.Quantity *df.UnitPrice),2).alias(\"InvoiceValue1\")\n",
    "\n",
    "df4 = df.where(sf.year(date)==2010)\\\n",
    "        .groupBy(\"country\",sf.weekofyear(date).alias(\"week\"))\\\n",
    "        .agg(NumInvoice,TotalQuantity,InvoiceValue,InvoiceValue1)\n",
    "    \n",
    "df4.write.format(\"parquet\")\\\n",
    "          .mode(\"overwrite\")\\\n",
    "          .save(\"/FileStore/aggregateddata/\")\n"
   ]
  },
  {
   "cell_type": "code",
   "execution_count": 0,
   "metadata": {
    "application/vnd.databricks.v1+cell": {
     "cellMetadata": {},
     "inputWidgets": {},
     "nuid": "41f31628-3419-4f1a-bf29-d094759ddab1",
     "showTitle": false,
     "title": ""
    }
   },
   "outputs": [],
   "source": [
    "df_parquet = spark.read.format(\"parquet\").\\\n",
    "                        load(\"/FileStore/aggregateddata/\")"
   ]
  },
  {
   "cell_type": "markdown",
   "metadata": {
    "application/vnd.databricks.v1+cell": {
     "cellMetadata": {},
     "inputWidgets": {},
     "nuid": "8a386f24-c537-4439-b65f-abdfcdf230ef",
     "showTitle": false,
     "title": ""
    }
   },
   "source": [
    "Window Function"
   ]
  },
  {
   "cell_type": "code",
   "execution_count": 0,
   "metadata": {
    "application/vnd.databricks.v1+cell": {
     "cellMetadata": {},
     "inputWidgets": {},
     "nuid": "157705e7-2665-46b1-b8b4-db0e33e6f6fe",
     "showTitle": false,
     "title": ""
    }
   },
   "outputs": [],
   "source": [
    "\n",
    "running_total_window = Window.partitionBy(\"country\").\\\n",
    "                              orderBy(\"week\").\\\n",
    "                              rowsBetween(Window.unboundedPreceding,Window.currentRow)\n",
    "\n",
    "df_runningsum = df_parquet.withColumn(\"RunningSum\",sf.sum(\"InvoiceValue\").over(running_total_window))\n",
    "display(df_runningsum)"
   ]
  },
  {
   "cell_type": "markdown",
   "metadata": {
    "application/vnd.databricks.v1+cell": {
     "cellMetadata": {},
     "inputWidgets": {},
     "nuid": "5553c7d3-6d14-4436-bb82-469f59623473",
     "showTitle": false,
     "title": ""
    }
   },
   "source": [
    "Top N records"
   ]
  },
  {
   "cell_type": "code",
   "execution_count": 0,
   "metadata": {
    "application/vnd.databricks.v1+cell": {
     "cellMetadata": {},
     "inputWidgets": {},
     "nuid": "b34f5ebf-82bd-45c2-89be-b84d180e073a",
     "showTitle": false,
     "title": ""
    }
   },
   "outputs": [],
   "source": [
    "ranking_window = Window.partitionBy(\"country\")\\\n",
    "                        .orderBy(\"InvoiceValue\")\\\n",
    "                        .rowsBetween(Window.unboundedPreceding,Window.currentRow)\n",
    "\n",
    "df_ranking = df4.withColumn(\"Rank\",sf.dense_rank().over(ranking_window))\\\n",
    "                .where(\"Rank<=3\")\n",
    "display(df_ranking)"
   ]
  },
  {
   "cell_type": "code",
   "execution_count": 0,
   "metadata": {
    "application/vnd.databricks.v1+cell": {
     "cellMetadata": {},
     "inputWidgets": {},
     "nuid": "cc5598b1-e9c9-480b-b632-0a94d318d3a3",
     "showTitle": false,
     "title": ""
    }
   },
   "outputs": [],
   "source": []
  }
 ],
 "metadata": {
  "application/vnd.databricks.v1+notebook": {
   "dashboards": [],
   "language": "python",
   "notebookMetadata": {
    "pythonIndentUnit": 4
   },
   "notebookName": "11. Window Functions",
   "widgets": {}
  }
 },
 "nbformat": 4,
 "nbformat_minor": 0
}
