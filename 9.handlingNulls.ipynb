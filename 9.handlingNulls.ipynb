{
 "cells": [
  {
   "cell_type": "markdown",
   "metadata": {
    "application/vnd.databricks.v1+cell": {
     "cellMetadata": {},
     "inputWidgets": {},
     "nuid": "0de09a67-871b-45b8-bd5b-88d470ee58ee",
     "showTitle": false,
     "title": ""
    }
   },
   "source": [
    "Spark Handling Null Joins"
   ]
  },
  {
   "cell_type": "code",
   "execution_count": 0,
   "metadata": {
    "application/vnd.databricks.v1+cell": {
     "cellMetadata": {},
     "inputWidgets": {},
     "nuid": "a8229b57-141a-4aec-8f5e-78a9efeceae8",
     "showTitle": false,
     "title": ""
    }
   },
   "outputs": [],
   "source": [
    "\n",
    "\n",
    "emp_dataset = [(1, \"Vikas1\",11),\n",
    "           (2, \"Vikas2\",12),\n",
    "           (3, \"Vikas3\",13),\n",
    "           (4, \"Vikas4\",None),\n",
    "           (5, \"Vikas5\",None)\n",
    "]\n",
    "\n",
    "dept_dataset = [\n",
    "(11,\"HR\"),\n",
    "(12,\"Finance\"),\n",
    "(13,\"Product\"),\n",
    "]\n",
    "\n",
    "emp_df = spark.createDataFrame(emp_dataset).toDF(\"emp_id\",\"emp_name\",\"dept_id\")\n",
    "dept_df = spark.createDataFrame(dept_dataset).toDF(\"dept_id\",\"dept_name\")\n",
    "\n",
    "emp_dept_df = emp_df.join(dept_df,\"dept_id\").select(emp_df.emp_id,emp_df.emp_name,dept_df.dept_name)\n",
    "display(emp_dept_df)\n"
   ]
  },
  {
   "cell_type": "markdown",
   "metadata": {
    "application/vnd.databricks.v1+cell": {
     "cellMetadata": {},
     "inputWidgets": {},
     "nuid": "3b9ef8e8-6cad-48c6-b869-47c1d4684b8b",
     "showTitle": false,
     "title": ""
    }
   },
   "source": [
    "Null Filtering"
   ]
  },
  {
   "cell_type": "code",
   "execution_count": 0,
   "metadata": {
    "application/vnd.databricks.v1+cell": {
     "cellMetadata": {},
     "inputWidgets": {},
     "nuid": "6f881827-81e3-46eb-83dc-4876aba2d10b",
     "showTitle": false,
     "title": ""
    }
   },
   "outputs": [],
   "source": [
    "emp_df_nullfilter = emp_df.where(emp_df.dept_id.isNotNull())\n",
    "display(emp_df_nullfilter)\n",
    "\n"
   ]
  },
  {
   "cell_type": "code",
   "execution_count": 0,
   "metadata": {
    "application/vnd.databricks.v1+cell": {
     "cellMetadata": {},
     "inputWidgets": {},
     "nuid": "cca91ef0-c123-44bd-abaa-6d1a1b6a5c4e",
     "showTitle": false,
     "title": ""
    }
   },
   "outputs": [],
   "source": [
    "from pyspark.sql.functions import expr\n",
    "emp_df_nullfilterexpr = emp_df.where(expr(\"dept_id is not null \"))\n",
    "display(emp_df_nullfilterexpr)"
   ]
  },
  {
   "cell_type": "markdown",
   "metadata": {
    "application/vnd.databricks.v1+cell": {
     "cellMetadata": {},
     "inputWidgets": {},
     "nuid": "32f4a9b5-81c7-4986-bfe5-683e32840722",
     "showTitle": false,
     "title": ""
    }
   },
   "source": [
    "NA functions"
   ]
  },
  {
   "cell_type": "code",
   "execution_count": 0,
   "metadata": {
    "application/vnd.databricks.v1+cell": {
     "cellMetadata": {},
     "inputWidgets": {},
     "nuid": "030f2d8a-0104-4ee7-8bbe-6ff6ac23f2c7",
     "showTitle": false,
     "title": ""
    }
   },
   "outputs": [],
   "source": [
    "from pyspark.sql.types import StructType,StructField,StringType,IntegerType,DoubleType\n",
    "\n",
    "songs_schema =StructType([\n",
    "    StructField(\"id\",StringType(),True),\n",
    "    StructField(\"log\",DoubleType(),True),\n",
    "    StructField(\"lat\",DoubleType(),True),\n",
    "    StructField(\"location\",StringType(),True),\n",
    "    StructField(\"songs\",StringType(),True)\n",
    "]) \n",
    "df1 = spark.read.format(\"csv\")\\\n",
    "                 .option(\"sep\",\"\\t\")\\\n",
    "                 .schema(songs_schema)\\\n",
    "                .load(\"/databricks-datasets/songs/data-001/part-00000\") \n",
    "#NA Drop\n",
    "print(df1.na.drop().count())\n",
    "print(df1.where(df1.id.isNotNull() & df1.log.isNotNull() & df1.lat.isNotNull() & df1.location.isNotNull() & df1.songs.isNotNull()).count() )\n",
    "\n",
    "\n"
   ]
  },
  {
   "cell_type": "code",
   "execution_count": 0,
   "metadata": {
    "application/vnd.databricks.v1+cell": {
     "cellMetadata": {},
     "inputWidgets": {},
     "nuid": "8dad0086-9702-46b9-b8bb-aac76c6085ec",
     "showTitle": false,
     "title": ""
    }
   },
   "outputs": [],
   "source": [
    "%fs ls \"/databricks-datasets/credit-card-fraud/data/_committed_7254527126265311508/\""
   ]
  },
  {
   "cell_type": "code",
   "execution_count": 0,
   "metadata": {
    "application/vnd.databricks.v1+cell": {
     "cellMetadata": {},
     "inputWidgets": {},
     "nuid": "7b3644b9-2d5d-4d20-871f-4e2667e96d14",
     "showTitle": false,
     "title": ""
    }
   },
   "outputs": [],
   "source": [
    "%fs ls \"/databricks-datasets/songs/data-001/part-00000\"\n",
    "\n"
   ]
  },
  {
   "cell_type": "code",
   "execution_count": 0,
   "metadata": {
    "application/vnd.databricks.v1+cell": {
     "cellMetadata": {},
     "inputWidgets": {},
     "nuid": "576166e3-dc7a-4e19-87f4-3619d2b5e27a",
     "showTitle": false,
     "title": ""
    }
   },
   "outputs": [],
   "source": [
    " dbutils.fs.head(\"/databricks-datasets/credit-card-fraud/data/_committed_7254527126265311508/\")"
   ]
  },
  {
   "cell_type": "code",
   "execution_count": 0,
   "metadata": {
    "application/vnd.databricks.v1+cell": {
     "cellMetadata": {},
     "inputWidgets": {},
     "nuid": "fdbc387f-4fcf-4b8c-9489-d6c96180679f",
     "showTitle": false,
     "title": ""
    }
   },
   "outputs": [],
   "source": []
  }
 ],
 "metadata": {
  "application/vnd.databricks.v1+notebook": {
   "dashboards": [],
   "language": "python",
   "notebookMetadata": {
    "pythonIndentUnit": 4
   },
   "notebookName": "9.handlingNulls",
   "widgets": {}
  }
 },
 "nbformat": 4,
 "nbformat_minor": 0
}
